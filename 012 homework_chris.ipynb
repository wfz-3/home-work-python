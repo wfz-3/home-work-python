{
 "cells": [
  {
   "cell_type": "markdown",
   "id": "0cf4e7e1",
   "metadata": {},
   "source": [
    "1. Declare your age as integer variable"
   ]
  },
  {
   "cell_type": "code",
   "execution_count": 3,
   "id": "0cb0ec04",
   "metadata": {},
   "outputs": [],
   "source": [
    "age = int(24)"
   ]
  },
  {
   "cell_type": "markdown",
   "id": "3037aacf",
   "metadata": {},
   "source": [
    "2. Declare your height as a float variable"
   ]
  },
  {
   "cell_type": "code",
   "execution_count": 4,
   "id": "ecf1b38f",
   "metadata": {},
   "outputs": [],
   "source": [
    "height=float(170.5)"
   ]
  },
  {
   "cell_type": "markdown",
   "id": "ade9beac",
   "metadata": {},
   "source": [
    "3. Declare a variable that store a complex number"
   ]
  },
  {
   "cell_type": "code",
   "execution_count": 5,
   "id": "0e6302c2",
   "metadata": {},
   "outputs": [],
   "source": [
    "complex_numer = 1+5j"
   ]
  },
  {
   "cell_type": "code",
   "execution_count": 7,
   "id": "acc12238",
   "metadata": {},
   "outputs": [
    {
     "data": {
      "text/plain": [
       "(26+0j)"
      ]
     },
     "execution_count": 7,
     "metadata": {},
     "output_type": "execute_result"
    }
   ],
   "source": [
    "(1+5j)*(1-5j)"
   ]
  },
  {
   "cell_type": "markdown",
   "id": "e2f2e4bf",
   "metadata": {},
   "source": [
    "4. Write a code that prompts the user to enter base and height of the triangle and calculate an area of this triangle (area = 0.5 x b x h)."
   ]
  },
  {
   "cell_type": "code",
   "execution_count": 8,
   "id": "98359bc9",
   "metadata": {},
   "outputs": [
    {
     "name": "stdout",
     "output_type": "stream",
     "text": [
      "Enter base20\n",
      "Enter height34.99\n",
      "349.90000000000003\n"
     ]
    }
   ],
   "source": [
    "b = float(input(\"Enter base\"))\n",
    "h = float(input(\"Enter height\"))\n",
    "area = 0.5*b*h\n",
    "print(area)"
   ]
  },
  {
   "cell_type": "code",
   "execution_count": 9,
   "id": "ac95130c",
   "metadata": {},
   "outputs": [
    {
     "name": "stdout",
     "output_type": "stream",
     "text": [
      "Enter side a: 3\n",
      "Enter side b: 5\n",
      "Enter side b: 6\n",
      "The perimeter of the triangle is  14\n"
     ]
    }
   ],
   "source": [
    "a = int(input(\"Enter side a: \"))\n",
    "b = int(input(\"Enter side b: \"))\n",
    "c = int(input(\"Enter side b: \"))\n",
    "triangle = a+b+c\n",
    "print(\"The perimeter of the triangle is \", triangle)"
   ]
  },
  {
   "cell_type": "markdown",
   "id": "0425e6e6",
   "metadata": {},
   "source": [
    "6. Get length and width of a rectangle using prompt. Calculate its area (**area = length x width**) and perimeter (**perimeter = 2 x (length + width)**)"
   ]
  },
  {
   "cell_type": "code",
   "execution_count": 12,
   "id": "c272b71d",
   "metadata": {},
   "outputs": [
    {
     "name": "stdout",
     "output_type": "stream",
     "text": [
      "Enter length: 3\n",
      "Enter width: 4\n",
      "12 14\n"
     ]
    }
   ],
   "source": [
    "length = int(input(\"Enter length: \"))\n",
    "width = int(input(\"Enter width: \"))\n",
    "area = int(length*width)\n",
    "perimeter = int(2*(length+width))\n",
    "print(area,perimeter)"
   ]
  },
  {
   "cell_type": "markdown",
   "id": "8a0af7e9",
   "metadata": {},
   "source": [
    "7. Get radius of a circle using prompt. Calculate the area (**area = pi x r x r**) and circumference (**c = 2 x pi x r**) where pi = 3.14."
   ]
  },
  {
   "cell_type": "code",
   "execution_count": 15,
   "id": "59904dd1",
   "metadata": {},
   "outputs": [
    {
     "name": "stdout",
     "output_type": "stream",
     "text": [
      "3\n",
      "area 28.26\n",
      "c 18.84\n"
     ]
    }
   ],
   "source": [
    "pi = 3.14\n",
    "r = int(input())\n",
    "area = pi*r**2\n",
    "c = 2*pi*r\n",
    "print('area', area)\n",
    "print('c', c)"
   ]
  },
  {
   "cell_type": "markdown",
   "id": "396ee3dc",
   "metadata": {},
   "source": [
    "8. Calculate the slope, x-intercept and y-intercept of $y = 2x -2$"
   ]
  },
  {
   "cell_type": "code",
   "execution_count": 74,
   "id": "bb3e72e2",
   "metadata": {},
   "outputs": [
    {
     "name": "stdout",
     "output_type": "stream",
     "text": [
      "slope:2.0\n"
     ]
    }
   ],
   "source": [
    "from scipy.misc import derivative\n",
    "def y(x):\n",
    "    return 2*x-2\n",
    "a=derivative(y,x0=1,dx=1.0)\n",
    "print('slope1:'+str(a))"
   ]
  },
  {
   "cell_type": "markdown",
   "id": "67bf2ae1",
   "metadata": {},
   "source": [
    "9. Slope is ($m = (y2-y1)/(x2-x1)$). Find the slope and **[Euclidean distance](https://en.wikipedia.org/wiki/Euclidean_distance#:~:text=In%20mathematics%2C%20the%20Euclidean%20distance,being%20called%20the%20Pythagorean%20distance.)** between point (2, 2) and point (6,10)"
   ]
  },
  {
   "cell_type": "code",
   "execution_count": 80,
   "id": "0fe91382",
   "metadata": {},
   "outputs": [
    {
     "name": "stdout",
     "output_type": "stream",
     "text": [
      "slope2:2.0\n",
      "Euclidean distance:8.94427190999916\n"
     ]
    }
   ],
   "source": [
    "import numpy as np\n",
    "def op(x1,x2,y1,y2):\n",
    "    b=(y2-y1)/(x2-x1)\n",
    "    Ed=np.sqrt((x2-x1)**2+(y2-y1)**2)\n",
    "    return(b,Ed)\n",
    "\n",
    "[x1,y1]=[2,2]\n",
    "[x2,y2]=[6,10]\n",
    "b,Ed=op(x1,x2,y1,y2)\n",
    "\n",
    "print('slope2:'+str(b))\n",
    "print('Euclidean distance:'+str(Ed))"
   ]
  },
  {
   "cell_type": "markdown",
   "id": "cc74ecac",
   "metadata": {},
   "source": [
    "10. Compare the slopes in tasks 8 and 9."
   ]
  },
  {
   "cell_type": "code",
   "execution_count": 86,
   "id": "5a435fd2",
   "metadata": {},
   "outputs": [
    {
     "name": "stdout",
     "output_type": "stream",
     "text": [
      "slope1 is larger than slope2\n"
     ]
    }
   ],
   "source": [
    "if a==b:\n",
    "    print('slope1 is equal to slope2')\n",
    "elif (a>b):\n",
    "    print('slope1 is larger than slope2')\n",
    "else:\n",
    "    print('slope1 is smaller than slope2')"
   ]
  },
  {
   "cell_type": "markdown",
   "id": "15452236",
   "metadata": {},
   "source": [
    "11. Calculate the value of y ($y = x^2 + 6x + 9$). Try to use different x values and figure out at what x value y is going to be 0."
   ]
  },
  {
   "cell_type": "code",
   "execution_count": 94,
   "id": "bc944749",
   "metadata": {},
   "outputs": [
    {
     "name": "stdout",
     "output_type": "stream",
     "text": [
      "y=169\n",
      "x=-3.0\n"
     ]
    }
   ],
   "source": [
    "import random as rd\n",
    "import math\n",
    "x=rd.randint(0,10)\n",
    "y=x**2+6*x+9\n",
    "\n",
    "print('y='+str(y))\n",
    "a,b,c=1,6,9\n",
    "y=a*x**2+b*x+c\n",
    "\n",
    "deta=b**2-4*a*c\n",
    "if deta<0:\n",
    "    print('no answer')\n",
    "else:\n",
    "    d=math.sqrt(deta)\n",
    "    x1=(d-b)/(2*a)\n",
    "    x2=(-d-b)/(2*a)\n",
    "    if x1==x2:\n",
    "        print('x='+str(x1))\n",
    "    else:\n",
    "        print('x1='+str(x1),'x2'+str(x2))\n"
   ]
  },
  {
   "cell_type": "markdown",
   "id": "93f8d71c",
   "metadata": {},
   "source": [
    "12. Find the length of **`'python'`** and **`'datascience'`** and make a falsy comparison statement."
   ]
  },
  {
   "cell_type": "code",
   "execution_count": 19,
   "id": "05d68763",
   "metadata": {},
   "outputs": [
    {
     "data": {
      "text/plain": [
       "False"
      ]
     },
     "execution_count": 19,
     "metadata": {},
     "output_type": "execute_result"
    }
   ],
   "source": [
    "a = len('python')\n",
    "b = len('datascience')\n",
    "a>b"
   ]
  },
  {
   "cell_type": "markdown",
   "id": "033cfcc6",
   "metadata": {},
   "source": [
    "13. Use **`and`** operator to check if **`on`** is found in both **`python`** and **`cannon`**"
   ]
  },
  {
   "cell_type": "code",
   "execution_count": 35,
   "id": "4a46e72f",
   "metadata": {},
   "outputs": [
    {
     "name": "stdout",
     "output_type": "stream",
     "text": [
      "true\n"
     ]
    }
   ],
   "source": [
    "if('on' in 'python'and'cannon'):\n",
    "    print('true')\n",
    "else:\n",
    "    print('false')"
   ]
  },
  {
   "cell_type": "markdown",
   "id": "706ea618",
   "metadata": {},
   "source": [
    "14. **`I hope this course is not full of jargon`**. Use **`in`** operator to check if **`jargon`** is in the sentence."
   ]
  },
  {
   "cell_type": "code",
   "execution_count": 39,
   "id": "9155209c",
   "metadata": {},
   "outputs": [
    {
     "name": "stdout",
     "output_type": "stream",
     "text": [
      "true\n"
     ]
    }
   ],
   "source": [
    "if('on' in 'I hope this course is not full of jargon'):\n",
    "    print('true')\n",
    "else:\n",
    "    print('false')"
   ]
  },
  {
   "cell_type": "markdown",
   "id": "95e07df5",
   "metadata": {},
   "source": [
    "15. There is no **`on`** in both **`python`** and **`cannon`**"
   ]
  },
  {
   "cell_type": "code",
   "execution_count": 40,
   "id": "79b32b00",
   "metadata": {},
   "outputs": [
    {
     "name": "stdout",
     "output_type": "stream",
     "text": [
      "false\n"
     ]
    }
   ],
   "source": [
    "if('on' not in 'python'and'cannon'):\n",
    "    print('true')\n",
    "else:\n",
    "    print('false')"
   ]
  },
  {
   "cell_type": "markdown",
   "id": "cdc6e148",
   "metadata": {},
   "source": [
    "16. Find the length of the text **`python`** and convert the value to float and convert it to string"
   ]
  },
  {
   "cell_type": "code",
   "execution_count": 46,
   "id": "f900866c",
   "metadata": {},
   "outputs": [
    {
     "name": "stdout",
     "output_type": "stream",
     "text": [
      "6.0 6.0\n"
     ]
    }
   ],
   "source": [
    "a = float(len('python'))\n",
    "b = str(a)\n",
    "print(a,b)"
   ]
  },
  {
   "cell_type": "markdown",
   "id": "a25a1091",
   "metadata": {},
   "source": [
    "17. Even numbers are divisible by 2 and the remainder is zero. How do you check if a number is even or not using python?"
   ]
  },
  {
   "cell_type": "code",
   "execution_count": 48,
   "id": "3f3b57e7",
   "metadata": {},
   "outputs": [
    {
     "name": "stdout",
     "output_type": "stream",
     "text": [
      "3\n",
      "not even\n"
     ]
    }
   ],
   "source": [
    "k = int(input())\n",
    "if(k%2==0):\n",
    "    print('even')\n",
    "else:\n",
    "    print('not even')"
   ]
  },
  {
   "cell_type": "markdown",
   "id": "eb07f240",
   "metadata": {},
   "source": [
    "18. Check if the floor division of 7 by 3 is equal to the int converted value of 2.7."
   ]
  },
  {
   "cell_type": "code",
   "execution_count": 76,
   "id": "2f67004d",
   "metadata": {},
   "outputs": [
    {
     "name": "stdout",
     "output_type": "stream",
     "text": [
      "True\n"
     ]
    }
   ],
   "source": [
    "a = 7//3\n",
    "b = int(2.7)\n",
    "print(a==b)"
   ]
  },
  {
   "cell_type": "markdown",
   "id": "cb2a1122",
   "metadata": {},
   "source": [
    "19. Check if type of **\"10\"** is equal to type of 10"
   ]
  },
  {
   "cell_type": "code",
   "execution_count": 77,
   "id": "3b549d02",
   "metadata": {},
   "outputs": [
    {
     "name": "stdout",
     "output_type": "stream",
     "text": [
      "False\n"
     ]
    }
   ],
   "source": [
    "print(type('10')==type(10))"
   ]
  },
  {
   "cell_type": "markdown",
   "id": "0666d51d",
   "metadata": {},
   "source": [
    "20. Check if int(**\"9.6\"**) is equal to 10"
   ]
  },
  {
   "cell_type": "code",
   "execution_count": 78,
   "id": "f1ab01b9",
   "metadata": {},
   "outputs": [
    {
     "name": "stdout",
     "output_type": "stream",
     "text": [
      "False\n"
     ]
    }
   ],
   "source": [
    "print(int(9.6)==10)"
   ]
  },
  {
   "cell_type": "markdown",
   "id": "3e1171ec",
   "metadata": {},
   "source": [
    "21. Write a code that prompts the user to enter hours and rate per hour. Calculate pay of the person?\n",
    "\n",
    "```py\n",
    "Enter hours: 40\n",
    "Enter rate per hour: 30\n",
    "Your weekly earning is 1200\n",
    "```"
   ]
  },
  {
   "cell_type": "code",
   "execution_count": 81,
   "id": "ebc07e58",
   "metadata": {},
   "outputs": [
    {
     "name": "stdout",
     "output_type": "stream",
     "text": [
      "Enter hours:40\n",
      "Enter rate per hour:30\n",
      "Your weekly earning is 1200\n"
     ]
    }
   ],
   "source": [
    "a=int(input('Enter hours:'))\n",
    "b=int(input('Enter rate per hour:'))\n",
    "c=a*b\n",
    "print('Your weekly earning is '+str(c))"
   ]
  },
  {
   "cell_type": "markdown",
   "id": "ee50d01d",
   "metadata": {},
   "source": [
    "22. Write a script that prompts the user to enter number of years. Calculate the number of seconds a person can live. Assume a person can live hundred years\n",
    "\n",
    "```py\n",
    "Enter number of years you have lived: 100\n",
    "You have lived for 3153600000 seconds.\n",
    "```"
   ]
  },
  {
   "cell_type": "code",
   "execution_count": 82,
   "id": "138d35f7",
   "metadata": {},
   "outputs": [
    {
     "name": "stdout",
     "output_type": "stream",
     "text": [
      "Enter number of years you can lived:90\n",
      "You have lived for 2.853881278538813e-06 seconds\n"
     ]
    }
   ],
   "source": [
    "a=int(input('Enter number of years you can lived:'))\n",
    "b=a/(365*24*60*60)\n",
    "print('You have lived for '+str(b) +' seconds')"
   ]
  },
  {
   "cell_type": "markdown",
   "id": "245d7bb7",
   "metadata": {},
   "source": [
    "23. Write a Python code that displays the following table\n",
    "\n",
    "```py\n",
    "1 2 3 4 5  \n",
    "2 4 6 8 10\n",
    "3 6 9 12 15\n",
    "4 8 12 16 20\n",
    "5 10 15 20 25\n",
    "```"
   ]
  },
  {
   "cell_type": "code",
   "execution_count": 68,
   "id": "bcf018f9",
   "metadata": {},
   "outputs": [
    {
     "name": "stdout",
     "output_type": "stream",
     "text": [
      "[1, 2, 3, 4, 5]\n",
      "[2, 4, 6, 8, 10]\n",
      "[3, 6, 9, 12, 15]\n",
      "[4, 8, 12, 16, 20]\n",
      "[5, 10, 15, 20, 25]\n"
     ]
    }
   ],
   "source": [
    "for i in range(1,6):\n",
    "    my_list = [1,2,3,4,5]\n",
    "    my_new_list = [j*i for j in my_list]\n",
    "    print(my_new_list)"
   ]
  },
  {
   "cell_type": "code",
   "execution_count": 69,
   "id": "2847c123",
   "metadata": {},
   "outputs": [
    {
     "name": "stdout",
     "output_type": "stream",
     "text": [
      "1 2 3 4 5\n",
      "2 4 6 8 10\n",
      "3 6 9 12 15\n",
      "4 8 12 16 20\n",
      "5 10 15 20 25\n"
     ]
    }
   ],
   "source": [
    "for i in range(1,6):\n",
    "    print(i,2*i,3*i,4*i,5*i)"
   ]
  },
  {
   "cell_type": "code",
   "execution_count": null,
   "id": "8dca10a2",
   "metadata": {},
   "outputs": [],
   "source": []
  }
 ],
 "metadata": {
  "kernelspec": {
   "display_name": "Python 3 (ipykernel)",
   "language": "python",
   "name": "python3"
  },
  "language_info": {
   "codemirror_mode": {
    "name": "ipython",
    "version": 3
   },
   "file_extension": ".py",
   "mimetype": "text/x-python",
   "name": "python",
   "nbconvert_exporter": "python",
   "pygments_lexer": "ipython3",
   "version": "3.9.7"
  }
 },
 "nbformat": 4,
 "nbformat_minor": 5
}
